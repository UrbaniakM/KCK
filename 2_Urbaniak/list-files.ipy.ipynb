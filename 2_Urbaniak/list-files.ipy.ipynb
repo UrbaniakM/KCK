{
 "cells": [
  {
   "cell_type": "code",
   "execution_count": 47,
   "metadata": {},
   "outputs": [
    {
     "name": "stdout",
     "output_type": "stream",
     "text": [
      "[['10375', 'sinusPlot_Urbaniak.pdf'], ['9962', 'polynomialPlot_Urbaniak.pdf']]\n"
     ]
    }
   ],
   "source": [
    "store = !ls -lS | awk '{print $5, $9}'\n",
    "store = store.fields()\n",
    "store.remove([])\n",
    "\n",
    "maxRange = len(store)\n",
    "i = 0\n",
    "while i < maxRange:\n",
    "    if int(store[i][0]) < 4000 or int(store[i][0]) > 11000:\n",
    "        store.remove(store[i])\n",
    "        i -= 1\n",
    "        maxRange -= 1\n",
    "    i += 1\n",
    "        \n",
    "store"
   ]
  }
 ],
 "metadata": {
  "kernelspec": {
   "display_name": "Python 3",
   "language": "python",
   "name": "python3"
  },
  "language_info": {
   "codemirror_mode": {
    "name": "ipython",
    "version": 3
   },
   "file_extension": ".py",
   "mimetype": "text/x-python",
   "name": "python",
   "nbconvert_exporter": "python",
   "pygments_lexer": "ipython3",
   "version": "3.5.2"
  }
 },
 "nbformat": 4,
 "nbformat_minor": 2
}
